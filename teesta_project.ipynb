{
  "nbformat": 4,
  "nbformat_minor": 0,
  "metadata": {
    "colab": {
      "provenance": [],
      "authorship_tag": "ABX9TyOckOdfiNAi/JHqjMBM/j1F",
      "include_colab_link": true
    },
    "kernelspec": {
      "name": "python3",
      "display_name": "Python 3"
    },
    "language_info": {
      "name": "python"
    }
  },
  "cells": [
    {
      "cell_type": "markdown",
      "metadata": {
        "id": "view-in-github",
        "colab_type": "text"
      },
      "source": [
        "<a href=\"https://colab.research.google.com/github/ATIK2110018/Earth_engine/blob/main/teesta_project.ipynb\" target=\"_parent\"><img src=\"https://colab.research.google.com/assets/colab-badge.svg\" alt=\"Open In Colab\"/></a>"
      ]
    },
    {
      "cell_type": "code",
      "execution_count": null,
      "metadata": {
        "id": "P4h5SEqavbxi"
      },
      "outputs": [],
      "source": [
        "from google.colab import drive\n",
        "drive.mount('/content/drive')"
      ]
    },
    {
      "cell_type": "code",
      "source": [
        "!pip install geemap"
      ],
      "metadata": {
        "collapsed": true,
        "id": "ZnV2Rgg5vqKy"
      },
      "execution_count": null,
      "outputs": []
    },
    {
      "cell_type": "code",
      "source": [
        "import ee\n",
        "import geemap\n",
        "\n",
        "ee.Authenticate()\n",
        "ee.Initialize(project='atik-2110018')\n",
        "Map = geemap.Map()"
      ],
      "metadata": {
        "id": "7lO6Om1vvzij"
      },
      "execution_count": null,
      "outputs": []
    },
    {
      "cell_type": "code",
      "source": [
        "shapefile_path = '/content/drive/MyDrive/GIS data/teesta_project/aoi/aoi.shp'"
      ],
      "metadata": {
        "id": "OgqkHkQtwHcO"
      },
      "execution_count": null,
      "outputs": []
    },
    {
      "cell_type": "code",
      "source": [
        "!pip install pycrs"
      ],
      "metadata": {
        "collapsed": true,
        "id": "KLAjehMwyKhs"
      },
      "execution_count": null,
      "outputs": []
    },
    {
      "cell_type": "code",
      "source": [
        "aoi = geemap.shp_to_ee(shapefile_path)"
      ],
      "metadata": {
        "id": "d8jLPyWFx-SW"
      },
      "execution_count": null,
      "outputs": []
    },
    {
      "cell_type": "code",
      "source": [
        "image = (\n",
        "    ee.ImageCollection(\"LANDSAT/LT05/C02/T1_L2\")\n",
        "    .filterBounds(aoi)\n",
        "    .filterDate(\"1990-10-01\", \"1991-10-30\")\n",
        "    .filter(ee.Filter.lt('CLOUD_COVER', 1))\n",
        "    .sort(\"CLOUD_COVER\")\n",
        "    .mosaic()\n",
        "    .select('SR_B[1-7]')\n",
        ")\n",
        "\n",
        "vis_params = {\"min\": 0, \"max\": 25000, \"bands\": [\"SR_B4\", \"SR_B3\", \"SR_B2\"]}\n",
        "\n",
        "Map.centerObject(aoi, 8)\n",
        "Map.addLayer(image, vis_params, \"Landsat-5\")\n",
        "Map.addLayer(aoi, {}, \"AOI\")"
      ],
      "metadata": {
        "id": "alJs28Q_v3px"
      },
      "execution_count": null,
      "outputs": []
    },
    {
      "cell_type": "code",
      "source": [
        "land_1990= image.clip(aoi)\n",
        "Map.addLayer(land_1990, vis_params, \"land_1990\")\n",
        "Map"
      ],
      "metadata": {
        "id": "nd4HMN94yq-_"
      },
      "execution_count": null,
      "outputs": []
    },
    {
      "cell_type": "code",
      "source": [
        "props = image.propertyNames()\n",
        "\n",
        "print(image.get(\"CLOUD_COVER\").getInfo())"
      ],
      "metadata": {
        "id": "irmxxDRF0u6Z"
      },
      "execution_count": null,
      "outputs": []
    },
    {
      "cell_type": "code",
      "source": [
        "training = land_1990.sample(\n",
        "    region=aoi.geometry(), # Provide the geometry of the aoi as the region\n",
        "    scale=30,\n",
        "    numPixels=10000,\n",
        "    seed=0,\n",
        "    geometries=True\n",
        ")\n",
        "\n",
        "Map.addLayer(training, {}, \"training\", False)\n",
        "Map"
      ],
      "metadata": {
        "id": "s-IcZTtV0vj0"
      },
      "execution_count": null,
      "outputs": []
    },
    {
      "cell_type": "code",
      "source": [
        "n_clusters = 3\n",
        "clusterer = ee.Clusterer.wekaKMeans(n_clusters).train(training)"
      ],
      "metadata": {
        "id": "muRuIwRP2Yfr"
      },
      "execution_count": null,
      "outputs": []
    },
    {
      "cell_type": "code",
      "source": [
        "result = land_1990.cluster(clusterer)\n",
        "\n",
        "Map.addLayer(result.randomVisualizer(), {}, \"clusters\")"
      ],
      "metadata": {
        "id": "5OD1fLFY3GjY"
      },
      "execution_count": null,
      "outputs": []
    },
    {
      "cell_type": "code",
      "source": [
        "class_names = ['Bar', 'Vegetation', 'Water']\n",
        "class_palette = {i: name for i, name in enumerate(class_names)}\n",
        "\n",
        "color_dict = {\n",
        "    'blue': (0, 0, 255),\n",
        "    'green': (0, 128, 0),\n",
        "    'red': (255, 0, 0)\n",
        "}\n",
        "\n",
        "class_colors = ['red', 'green', 'blue']\n",
        "\n",
        "legend_dict = {class_names[i]: color_dict[class_colors[i]] for i in range(len(class_names))}\n",
        "\n",
        "classified_image = result.remap(\n",
        "    ee.List(list(class_palette.keys())),\n",
        "    ee.List(list(class_palette.keys())),\n",
        "    0\n",
        ").rename('land_cover')\n",
        "\n",
        "Map.addLayer(\n",
        "    classified_image,\n",
        "    {'min': 0, 'max': 2, 'palette': class_colors},\n",
        "    'Classified Image'\n",
        ")\n",
        "\n",
        "Map.add_legend(legend_dict=legend_dict, title=\"Land Cover Classification\")\n",
        "\n",
        "Map"
      ],
      "metadata": {
        "id": "2GwKP-dr3OJT"
      },
      "execution_count": null,
      "outputs": []
    },
    {
      "cell_type": "code",
      "source": [
        "original_values = [0, 1, 2]\n",
        "target_values = [2, 4, 6]\n",
        "\n",
        "classified_image_remapped = classified_image.remap(\n",
        "    ee.List(original_values),\n",
        "    ee.List(target_values),\n",
        "    0\n",
        ").rename('land_cover')"
      ],
      "metadata": {
        "id": "DS1WgCskB6wr"
      },
      "execution_count": null,
      "outputs": []
    },
    {
      "cell_type": "code",
      "source": [
        "geemap.ee_export_image(\n",
        "    classified_image_remapped,\n",
        "    filename='classified_image.tif',\n",
        "    scale=30,\n",
        "    region=aoi.geometry(),\n",
        "    file_per_band=False\n",
        ")"
      ],
      "metadata": {
        "id": "-lRku8SK9mZ8"
      },
      "execution_count": null,
      "outputs": []
    }
  ]
}